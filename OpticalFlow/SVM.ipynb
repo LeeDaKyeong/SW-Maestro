{
 "cells": [
  {
   "cell_type": "code",
   "execution_count": 27,
   "metadata": {},
   "outputs": [],
   "source": [
    "import pandas as pd\n",
    "import numpy as np\n",
    "from sklearn import svm\n",
    "\n",
    "Hockey_move_descriptor = pd.read_csv('/Users/leedagyeong/Desktop/Hockey_20_train.csv',header=None)\n",
    "data = np.array(Hockey_move_descriptor)\n",
    "\n",
    "Y = data[:,0]\n",
    "X = data[:,1:]\n",
    "\n",
    "clf = svm.SVC()\n",
    "clf.fit(X, Y) \n",
    "\n",
    "#clf.predict([X[20,:]])\n",
    "\n"
   ]
  }
 ],
 "metadata": {
  "kernelspec": {
   "display_name": "Python 3",
   "language": "python",
   "name": "python3"
  },
  "language_info": {
   "codemirror_mode": {
    "name": "ipython",
    "version": 3
   },
   "file_extension": ".py",
   "mimetype": "text/x-python",
   "name": "python",
   "nbconvert_exporter": "python",
   "pygments_lexer": "ipython3",
   "version": "3.6.3"
  }
 },
 "nbformat": 4,
 "nbformat_minor": 2
}
